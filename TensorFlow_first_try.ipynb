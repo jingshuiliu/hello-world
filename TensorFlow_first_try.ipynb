{
  "nbformat": 4,
  "nbformat_minor": 0,
  "metadata": {
    "colab": {
      "name": "Untitled0.ipynb",
      "version": "0.3.2",
      "provenance": [],
      "include_colab_link": true
    },
    "kernelspec": {
      "name": "python3",
      "display_name": "Python 3"
    }
  },
  "cells": [
    {
      "cell_type": "markdown",
      "metadata": {
        "id": "view-in-github",
        "colab_type": "text"
      },
      "source": [
        "<a href=\"https://colab.research.google.com/github/jingshuiliu/hello-world/blob/master/TensorFlow_first_try.ipynb\" target=\"_parent\"><img src=\"https://colab.research.google.com/assets/colab-badge.svg\" alt=\"Open In Colab\"/></a>"
      ]
    },
    {
      "metadata": {
        "id": "6rU1BrpBSvGf",
        "colab_type": "code",
        "colab": {}
      },
      "cell_type": "code",
      "source": [
        "import tensorflow as tf"
      ],
      "execution_count": 0,
      "outputs": []
    },
    {
      "metadata": {
        "id": "mXrjSl6WTLex",
        "colab_type": "code",
        "colab": {}
      },
      "cell_type": "code",
      "source": [
        "# 创建一个常量 op, 产生一个 1x2 矩阵. 这个 op 被作为一个节点\n",
        "# 加到默认图中.\n",
        "#\n",
        "# 构造器的返回值代表该常量 op 的返回值.\n",
        "matrix1 = tf.constant([[3.,3.]])"
      ],
      "execution_count": 0,
      "outputs": []
    },
    {
      "metadata": {
        "id": "XTHcF5YTUXCg",
        "colab_type": "code",
        "colab": {}
      },
      "cell_type": "code",
      "source": [
        "# 创建另外一个常量 op, 产生一个 2x1 矩阵.\n",
        "matrix2 = tf.constant([[2.],[2.]])"
      ],
      "execution_count": 0,
      "outputs": []
    },
    {
      "metadata": {
        "id": "E7uwA023U0ib",
        "colab_type": "code",
        "colab": {}
      },
      "cell_type": "code",
      "source": [
        "# 创建一个矩阵乘法 matmul op , 把 'matrix1' 和 'matrix2' 作为输入.\n",
        "# 返回值 'product' 代表矩阵乘法的结果.\n",
        "product = tf.matmul(matrix1, matrix2)"
      ],
      "execution_count": 0,
      "outputs": []
    },
    {
      "metadata": {
        "id": "ZQVeuVA3VMEw",
        "colab_type": "code",
        "colab": {}
      },
      "cell_type": "code",
      "source": [
        "# 启动默认图.\n",
        "sess = tf.Session()"
      ],
      "execution_count": 0,
      "outputs": []
    },
    {
      "metadata": {
        "id": "69h1tG9vVoTB",
        "colab_type": "code",
        "colab": {
          "base_uri": "https://localhost:8080/",
          "height": 53
        },
        "outputId": "9aec8456-85a5-4e4d-e4d3-c75e1b6915ba"
      },
      "cell_type": "code",
      "source": [
        "# 调用 sess 的 'run()' 方法来执行矩阵乘法 op, 传入 'product' 作为该方法的参数. \n",
        "# 上面提到, 'product' 代表了矩阵乘法 op 的输出, 传入它是向方法表明, 我们希望取回\n",
        "# 矩阵乘法 op 的输出.\n",
        "#\n",
        "# 整个执行过程是自动化的, 会话负责传递 op 所需的全部输入. op 通常是并发执行的.\n",
        "# \n",
        "# 函数调用 'run(product)' 触发了图中三个 op (两个常量 op 和一个矩阵乘法 op) 的执行.\n",
        "#\n",
        "# 返回值 'result' 是一个 numpy `ndarray` 对象.\n",
        "with tf.Session() as sess:\n",
        "  result1 = sess.run([product])\n",
        "  result2 = sess.run(product)\n",
        "  print(result1,'\\n',result2)"
      ],
      "execution_count": 27,
      "outputs": [
        {
          "output_type": "stream",
          "text": [
            "[array([[12.]], dtype=float32)] \n",
            " [[12.]]\n"
          ],
          "name": "stdout"
        }
      ]
    },
    {
      "metadata": {
        "id": "vSfoes4-kos_",
        "colab_type": "code",
        "colab": {}
      },
      "cell_type": "code",
      "source": [
        "# 下一个例子"
      ],
      "execution_count": 0,
      "outputs": []
    },
    {
      "metadata": {
        "id": "Ab5WsE56WbIj",
        "colab_type": "code",
        "colab": {
          "base_uri": "https://localhost:8080/",
          "height": 91
        },
        "outputId": "db875e9d-bb1b-4eb4-ef9e-27c5a393cf38"
      },
      "cell_type": "code",
      "source": [
        "# 文档中的 Python 示例使用一个会话 Session 来 启动图, 并调用 Session.run() 方法执行操作. \n",
        "# 为了便于使用诸如 IPython 之类的 Python 交互环境, 可以使用 InteractiveSession 代替 Session 类, \n",
        "# 使用 Tensor.eval() 和 Operation.run() 方法代替 Session.run(). 这样可以避免使用一个变量来持有会话.\n",
        "sess = tf.InteractiveSession()\n",
        "\n",
        "x = tf.Variable([1.0, 2.0])\n",
        "a = tf.constant([3.0, 3.0])\n",
        "\n",
        "# 使用初始化器 initializer op 的 run() 方法初始化 'x' \n",
        "x.initializer.run()\n",
        "\n",
        "# 增加一个减法 sub op, 从 'x' 减去 'a'. 运行减法 op, 输出结果 \n",
        "sub1 = tf.subtract(x, a)\n",
        "print(sub1.eval())\n",
        "# ==> [-2. -1.]"
      ],
      "execution_count": 32,
      "outputs": [
        {
          "output_type": "stream",
          "text": [
            "[-2. -1.]\n"
          ],
          "name": "stdout"
        },
        {
          "output_type": "stream",
          "text": [
            "/usr/local/lib/python3.6/dist-packages/tensorflow/python/client/session.py:1702: UserWarning: An interactive session is already active. This can cause out-of-memory errors in some cases. You must explicitly call `InteractiveSession.close()` to release resources held by the other session(s).\n",
            "  warnings.warn('An interactive session is already active. This can '\n"
          ],
          "name": "stderr"
        }
      ]
    },
    {
      "metadata": {
        "id": "9kReVLtImlGO",
        "colab_type": "code",
        "colab": {}
      },
      "cell_type": "code",
      "source": [
        "# 新例子"
      ],
      "execution_count": 0,
      "outputs": []
    },
    {
      "metadata": {
        "id": "m23q3IVtjBMR",
        "colab_type": "code",
        "colab": {
          "base_uri": "https://localhost:8080/",
          "height": 89
        },
        "outputId": "13ba1d60-d66f-4278-ff2a-02195ad7f328"
      },
      "cell_type": "code",
      "source": [
        "#使用tensorflow在默认的图中创建节点，这个节点是一个变量\n",
        "state=tf.Variable(0,name=\"a\")\n",
        "\n",
        "#此处调用了tf的一个函数，用于创建常量\n",
        "one = tf.constant(1)\n",
        "\n",
        "#对常量与变量进行简单的加法操作，\n",
        "new_value = tf.add(state,one)\n",
        "#这点需要说明的是： 在TensoorFlow中，所有的操作op，变量都视为节点，tf.add() \n",
        "#的意思就是在tf的默认图中添加一个op，这个op是用来做加法操作的。\n",
        "\n",
        "#这个操作是：赋值操作。将new_value的值赋值给state变量,update只是一个用于sess的变量\n",
        "update = tf.assign(state,new_value)\n",
        "\n",
        "# 启动图后, 变量必须先经过`初始化` (init) op 初始化,\n",
        "# 首先必须增加一个`初始化` op 到图中.\n",
        "init=tf.global_variables_initializer()\n",
        "\n",
        "# 启动图, 运行 op\n",
        "with tf.Session() as sess:\n",
        "    # 运行 'init' op\n",
        "    sess.run(init)#对变量进行初始化，执行（run）init语句\n",
        "    # 打印 'state' 的初始值\n",
        "    print(sess.run(state))\n",
        "    # 运行 op, 更新 'state', 并打印 'state'\n",
        "    for i in range(3):\n",
        "        sess.run(update)\n",
        "        print(sess.run(state))"
      ],
      "execution_count": 45,
      "outputs": [
        {
          "output_type": "stream",
          "text": [
            "0\n",
            "1\n",
            "2\n",
            "3\n"
          ],
          "name": "stdout"
        }
      ]
    },
    {
      "metadata": {
        "id": "e4UTv8aUofsZ",
        "colab_type": "code",
        "colab": {}
      },
      "cell_type": "code",
      "source": [
        ""
      ],
      "execution_count": 0,
      "outputs": []
    }
  ]
}